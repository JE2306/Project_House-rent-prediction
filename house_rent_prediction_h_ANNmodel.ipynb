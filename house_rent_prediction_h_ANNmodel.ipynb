{
 "cells": [
  {
   "cell_type": "code",
   "execution_count": 93,
   "id": "79cc5faa",
   "metadata": {},
   "outputs": [],
   "source": [
    "#Import Libraries and packages\n",
    "import numpy as np\n",
    "import matplotlib.pyplot as plt\n",
    "import pandas as pd\n",
    "import seaborn as sns\n",
    "from scipy import stats\n",
    "import hvplot.pandas\n",
    "from warnings import filterwarnings\n",
    "filterwarnings('ignore')\n",
    "from sklearn.preprocessing import StandardScaler\n",
    "from sklearn.neural_network import MLPRegressor\n",
    "from sklearn.model_selection import RandomizedSearchCV\n",
    "from yellowbrick.regressor import prediction_error\n",
    "from sklearn import metrics\n",
    "from sklearn.model_selection import cross_val_score\n",
    "from sklearn.metrics import mean_squared_error\n",
    "from sklearn.metrics import mean_absolute_error\n",
    "from sklearn.model_selection import RepeatedKFold\n",
    "from sklearn.model_selection import KFold"
   ]
  },
  {
   "cell_type": "code",
   "execution_count": 94,
   "id": "fa9df726",
   "metadata": {},
   "outputs": [],
   "source": [
    "#Import train set in a DF\n",
    "train_set = pd.read_excel('/Users/lucy/Desktop/zoopla/train_set.xlsx')"
   ]
  },
  {
   "cell_type": "code",
   "execution_count": 95,
   "id": "0323beb6",
   "metadata": {},
   "outputs": [],
   "source": [
    "#Import test set in a DF\n",
    "test_set = pd.read_excel('/Users/lucy/Desktop/zoopla/test_set.xlsx')"
   ]
  },
  {
   "cell_type": "code",
   "execution_count": 96,
   "id": "f34c5295",
   "metadata": {
    "scrolled": true
   },
   "outputs": [
    {
     "data": {
      "text/plain": [
       "bedrooms                                     0\n",
       "bathrooms                                    0\n",
       "num_reception                                0\n",
       "latitude                                     0\n",
       "longitude                                    0\n",
       "monthly rent                                 0\n",
       "dist_rail                                    0\n",
       "dist_school                                  0\n",
       "bed*recep                                    0\n",
       "bath*recep                                   0\n",
       "property type_Detached house                 0\n",
       "property type_Flat                           0\n",
       "property type_Semi-detached house            0\n",
       "property type_Studio                         0\n",
       "property type_Terraced house                 0\n",
       "property type_Unknown                        0\n",
       "furnished state_furnished                    0\n",
       "furnished state_part_furnished               0\n",
       "furnished state_unfurnished                  0\n",
       "ofsted_rating_school_Inadequate              0\n",
       "ofsted_rating_school_Outstanding             0\n",
       "ofsted_rating_school_Requires improvement    0\n",
       "ofsted_rating_school_Unknown                 0\n",
       "cluster_label_cluster 2                      0\n",
       "cluster_label_cluster 3                      0\n",
       "cluster_label_cluster 4                      0\n",
       "bills_included_yes                           0\n",
       "has_parking_yes                              0\n",
       "has_garden_yes                               0\n",
       "has_balcony_yes                              0\n",
       "student_friendly_yes                         0\n",
       "month_Aug                                    0\n",
       "month_Dec                                    0\n",
       "month_Feb                                    0\n",
       "month_Jan                                    0\n",
       "month_Jul                                    0\n",
       "month_Jun                                    0\n",
       "month_Mar                                    0\n",
       "month_May                                    0\n",
       "month_Nov                                    0\n",
       "month_Oct                                    0\n",
       "month_Sep                                    0\n",
       "season_spring                                0\n",
       "season_summer                                0\n",
       "season_winter                                0\n",
       "region_West Midlands                         0\n",
       "dtype: int64"
      ]
     },
     "execution_count": 96,
     "metadata": {},
     "output_type": "execute_result"
    }
   ],
   "source": [
    "#Check missing values in training set\n",
    "train_set.isnull().sum()"
   ]
  },
  {
   "cell_type": "code",
   "execution_count": 97,
   "id": "fd54bd56",
   "metadata": {},
   "outputs": [
    {
     "data": {
      "text/plain": [
       "bedrooms                                     0\n",
       "bathrooms                                    0\n",
       "num_reception                                0\n",
       "latitude                                     0\n",
       "longitude                                    0\n",
       "monthly rent                                 0\n",
       "dist_rail                                    0\n",
       "dist_school                                  0\n",
       "bed*recep                                    0\n",
       "bath*recep                                   0\n",
       "property type_Detached house                 0\n",
       "property type_Flat                           0\n",
       "property type_Semi-detached house            0\n",
       "property type_Studio                         0\n",
       "property type_Terraced house                 0\n",
       "property type_Unknown                        0\n",
       "furnished state_furnished                    0\n",
       "furnished state_part_furnished               0\n",
       "furnished state_unfurnished                  0\n",
       "ofsted_rating_school_Inadequate              0\n",
       "ofsted_rating_school_Outstanding             0\n",
       "ofsted_rating_school_Requires improvement    0\n",
       "ofsted_rating_school_Unknown                 0\n",
       "cluster_label_cluster 2                      0\n",
       "cluster_label_cluster 3                      0\n",
       "cluster_label_cluster 4                      0\n",
       "bills_included_yes                           0\n",
       "has_parking_yes                              0\n",
       "has_garden_yes                               0\n",
       "has_balcony_yes                              0\n",
       "student_friendly_yes                         0\n",
       "month_Aug                                    0\n",
       "month_Dec                                    0\n",
       "month_Feb                                    0\n",
       "month_Jan                                    0\n",
       "month_Jul                                    0\n",
       "month_Jun                                    0\n",
       "month_Mar                                    0\n",
       "month_May                                    0\n",
       "month_Nov                                    0\n",
       "month_Oct                                    0\n",
       "month_Sep                                    0\n",
       "season_spring                                0\n",
       "season_summer                                0\n",
       "season_winter                                0\n",
       "region_West Midlands                         0\n",
       "dtype: int64"
      ]
     },
     "execution_count": 97,
     "metadata": {},
     "output_type": "execute_result"
    }
   ],
   "source": [
    "#Check missing values in the test set\n",
    "test_set.isnull().sum()"
   ]
  },
  {
   "cell_type": "code",
   "execution_count": 98,
   "id": "fa5dcb5e",
   "metadata": {},
   "outputs": [
    {
     "name": "stdout",
     "output_type": "stream",
     "text": [
      "<class 'pandas.core.frame.DataFrame'>\n",
      "RangeIndex: 11818 entries, 0 to 11817\n",
      "Data columns (total 46 columns):\n",
      " #   Column                                     Non-Null Count  Dtype  \n",
      "---  ------                                     --------------  -----  \n",
      " 0   bedrooms                                   11818 non-null  int64  \n",
      " 1   bathrooms                                  11818 non-null  int64  \n",
      " 2   num_reception                              11818 non-null  int64  \n",
      " 3   latitude                                   11818 non-null  float64\n",
      " 4   longitude                                  11818 non-null  float64\n",
      " 5   monthly rent                               11818 non-null  int64  \n",
      " 6   dist_rail                                  11818 non-null  float64\n",
      " 7   dist_school                                11818 non-null  float64\n",
      " 8   bed*recep                                  11818 non-null  int64  \n",
      " 9   bath*recep                                 11818 non-null  int64  \n",
      " 10  property type_Detached house               11818 non-null  int64  \n",
      " 11  property type_Flat                         11818 non-null  int64  \n",
      " 12  property type_Semi-detached house          11818 non-null  int64  \n",
      " 13  property type_Studio                       11818 non-null  int64  \n",
      " 14  property type_Terraced house               11818 non-null  int64  \n",
      " 15  property type_Unknown                      11818 non-null  int64  \n",
      " 16  furnished state_furnished                  11818 non-null  int64  \n",
      " 17  furnished state_part_furnished             11818 non-null  int64  \n",
      " 18  furnished state_unfurnished                11818 non-null  int64  \n",
      " 19  ofsted_rating_school_Inadequate            11818 non-null  int64  \n",
      " 20  ofsted_rating_school_Outstanding           11818 non-null  int64  \n",
      " 21  ofsted_rating_school_Requires improvement  11818 non-null  int64  \n",
      " 22  ofsted_rating_school_Unknown               11818 non-null  int64  \n",
      " 23  cluster_label_cluster 2                    11818 non-null  int64  \n",
      " 24  cluster_label_cluster 3                    11818 non-null  int64  \n",
      " 25  cluster_label_cluster 4                    11818 non-null  int64  \n",
      " 26  bills_included_yes                         11818 non-null  int64  \n",
      " 27  has_parking_yes                            11818 non-null  int64  \n",
      " 28  has_garden_yes                             11818 non-null  int64  \n",
      " 29  has_balcony_yes                            11818 non-null  int64  \n",
      " 30  student_friendly_yes                       11818 non-null  int64  \n",
      " 31  month_Aug                                  11818 non-null  int64  \n",
      " 32  month_Dec                                  11818 non-null  int64  \n",
      " 33  month_Feb                                  11818 non-null  int64  \n",
      " 34  month_Jan                                  11818 non-null  int64  \n",
      " 35  month_Jul                                  11818 non-null  int64  \n",
      " 36  month_Jun                                  11818 non-null  int64  \n",
      " 37  month_Mar                                  11818 non-null  int64  \n",
      " 38  month_May                                  11818 non-null  int64  \n",
      " 39  month_Nov                                  11818 non-null  int64  \n",
      " 40  month_Oct                                  11818 non-null  int64  \n",
      " 41  month_Sep                                  11818 non-null  int64  \n",
      " 42  season_spring                              11818 non-null  int64  \n",
      " 43  season_summer                              11818 non-null  int64  \n",
      " 44  season_winter                              11818 non-null  int64  \n",
      " 45  region_West Midlands                       11818 non-null  int64  \n",
      "dtypes: float64(4), int64(42)\n",
      "memory usage: 4.1 MB\n"
     ]
    }
   ],
   "source": [
    "#View train_set info\n",
    "train_set.info()"
   ]
  },
  {
   "cell_type": "code",
   "execution_count": 99,
   "id": "9d9cbb9b",
   "metadata": {},
   "outputs": [
    {
     "name": "stdout",
     "output_type": "stream",
     "text": [
      "<class 'pandas.core.frame.DataFrame'>\n",
      "RangeIndex: 11818 entries, 0 to 11817\n",
      "Data columns (total 46 columns):\n",
      " #   Column                                     Non-Null Count  Dtype  \n",
      "---  ------                                     --------------  -----  \n",
      " 0   bedrooms                                   11818 non-null  int64  \n",
      " 1   bathrooms                                  11818 non-null  int64  \n",
      " 2   num_reception                              11818 non-null  int64  \n",
      " 3   latitude                                   11818 non-null  float64\n",
      " 4   longitude                                  11818 non-null  float64\n",
      " 5   monthly rent                               11818 non-null  int64  \n",
      " 6   dist_rail                                  11818 non-null  float64\n",
      " 7   dist_school                                11818 non-null  float64\n",
      " 8   bed*recep                                  11818 non-null  int64  \n",
      " 9   bath*recep                                 11818 non-null  int64  \n",
      " 10  property type_Detached house               11818 non-null  int64  \n",
      " 11  property type_Flat                         11818 non-null  int64  \n",
      " 12  property type_Semi-detached house          11818 non-null  int64  \n",
      " 13  property type_Studio                       11818 non-null  int64  \n",
      " 14  property type_Terraced house               11818 non-null  int64  \n",
      " 15  property type_Unknown                      11818 non-null  int64  \n",
      " 16  furnished state_furnished                  11818 non-null  int64  \n",
      " 17  furnished state_part_furnished             11818 non-null  int64  \n",
      " 18  furnished state_unfurnished                11818 non-null  int64  \n",
      " 19  ofsted_rating_school_Inadequate            11818 non-null  int64  \n",
      " 20  ofsted_rating_school_Outstanding           11818 non-null  int64  \n",
      " 21  ofsted_rating_school_Requires improvement  11818 non-null  int64  \n",
      " 22  ofsted_rating_school_Unknown               11818 non-null  int64  \n",
      " 23  cluster_label_cluster 2                    11818 non-null  int64  \n",
      " 24  cluster_label_cluster 3                    11818 non-null  int64  \n",
      " 25  cluster_label_cluster 4                    11818 non-null  int64  \n",
      " 26  bills_included_yes                         11818 non-null  int64  \n",
      " 27  has_parking_yes                            11818 non-null  int64  \n",
      " 28  has_garden_yes                             11818 non-null  int64  \n",
      " 29  has_balcony_yes                            11818 non-null  int64  \n",
      " 30  student_friendly_yes                       11818 non-null  int64  \n",
      " 31  month_Aug                                  11818 non-null  int64  \n",
      " 32  month_Dec                                  11818 non-null  int64  \n",
      " 33  month_Feb                                  11818 non-null  int64  \n",
      " 34  month_Jan                                  11818 non-null  int64  \n",
      " 35  month_Jul                                  11818 non-null  int64  \n",
      " 36  month_Jun                                  11818 non-null  int64  \n",
      " 37  month_Mar                                  11818 non-null  int64  \n",
      " 38  month_May                                  11818 non-null  int64  \n",
      " 39  month_Nov                                  11818 non-null  int64  \n",
      " 40  month_Oct                                  11818 non-null  int64  \n",
      " 41  month_Sep                                  11818 non-null  int64  \n",
      " 42  season_spring                              11818 non-null  int64  \n",
      " 43  season_summer                              11818 non-null  int64  \n",
      " 44  season_winter                              11818 non-null  int64  \n",
      " 45  region_West Midlands                       11818 non-null  int64  \n",
      "dtypes: float64(4), int64(42)\n",
      "memory usage: 4.1 MB\n"
     ]
    }
   ],
   "source": [
    "#Get test_set info\n",
    "train_set.info()"
   ]
  },
  {
   "cell_type": "code",
   "execution_count": 100,
   "id": "9d6d8aa2",
   "metadata": {},
   "outputs": [],
   "source": [
    "#Split the train_set into X and y\n",
    "X = train_set.drop(\"monthly rent\", axis=1)\n",
    "\n",
    "y = train_set[\"monthly rent\"].copy() "
   ]
  },
  {
   "cell_type": "code",
   "execution_count": 101,
   "id": "f0586eab",
   "metadata": {},
   "outputs": [
    {
     "data": {
      "text/html": [
       "<div>\n",
       "<style scoped>\n",
       "    .dataframe tbody tr th:only-of-type {\n",
       "        vertical-align: middle;\n",
       "    }\n",
       "\n",
       "    .dataframe tbody tr th {\n",
       "        vertical-align: top;\n",
       "    }\n",
       "\n",
       "    .dataframe thead th {\n",
       "        text-align: right;\n",
       "    }\n",
       "</style>\n",
       "<table border=\"1\" class=\"dataframe\">\n",
       "  <thead>\n",
       "    <tr style=\"text-align: right;\">\n",
       "      <th></th>\n",
       "      <th>bedrooms</th>\n",
       "      <th>bathrooms</th>\n",
       "      <th>num_reception</th>\n",
       "      <th>latitude</th>\n",
       "      <th>longitude</th>\n",
       "      <th>dist_rail</th>\n",
       "      <th>dist_school</th>\n",
       "      <th>bed*recep</th>\n",
       "      <th>bath*recep</th>\n",
       "      <th>property type_Detached house</th>\n",
       "      <th>...</th>\n",
       "      <th>month_Mar</th>\n",
       "      <th>month_May</th>\n",
       "      <th>month_Nov</th>\n",
       "      <th>month_Oct</th>\n",
       "      <th>month_Sep</th>\n",
       "      <th>season_spring</th>\n",
       "      <th>season_summer</th>\n",
       "      <th>season_winter</th>\n",
       "      <th>region_West Midlands</th>\n",
       "      <th>monthly rent</th>\n",
       "    </tr>\n",
       "  </thead>\n",
       "  <tbody>\n",
       "    <tr>\n",
       "      <th>0</th>\n",
       "      <td>0.603825</td>\n",
       "      <td>-0.428152</td>\n",
       "      <td>0.314012</td>\n",
       "      <td>-0.540161</td>\n",
       "      <td>-0.868612</td>\n",
       "      <td>0.261933</td>\n",
       "      <td>-0.605021</td>\n",
       "      <td>0.465122</td>\n",
       "      <td>-0.076548</td>\n",
       "      <td>-0.216685</td>\n",
       "      <td>...</td>\n",
       "      <td>-0.172371</td>\n",
       "      <td>-0.245542</td>\n",
       "      <td>-0.165751</td>\n",
       "      <td>-0.152907</td>\n",
       "      <td>-0.061825</td>\n",
       "      <td>-0.491576</td>\n",
       "      <td>0.683627</td>\n",
       "      <td>-0.249966</td>\n",
       "      <td>0.732394</td>\n",
       "      <td>1050</td>\n",
       "    </tr>\n",
       "    <tr>\n",
       "      <th>1</th>\n",
       "      <td>-0.858921</td>\n",
       "      <td>-0.428152</td>\n",
       "      <td>0.314012</td>\n",
       "      <td>-0.453407</td>\n",
       "      <td>-0.733391</td>\n",
       "      <td>-0.470977</td>\n",
       "      <td>-0.917464</td>\n",
       "      <td>-0.422462</td>\n",
       "      <td>-0.076548</td>\n",
       "      <td>-0.216685</td>\n",
       "      <td>...</td>\n",
       "      <td>-0.172371</td>\n",
       "      <td>-0.245542</td>\n",
       "      <td>-0.165751</td>\n",
       "      <td>-0.152907</td>\n",
       "      <td>-0.061825</td>\n",
       "      <td>-0.491576</td>\n",
       "      <td>0.683627</td>\n",
       "      <td>-0.249966</td>\n",
       "      <td>0.732394</td>\n",
       "      <td>795</td>\n",
       "    </tr>\n",
       "    <tr>\n",
       "      <th>2</th>\n",
       "      <td>-0.127548</td>\n",
       "      <td>-0.428152</td>\n",
       "      <td>1.857043</td>\n",
       "      <td>2.404435</td>\n",
       "      <td>-1.411497</td>\n",
       "      <td>1.824907</td>\n",
       "      <td>-0.355911</td>\n",
       "      <td>0.908913</td>\n",
       "      <td>0.735518</td>\n",
       "      <td>-0.216685</td>\n",
       "      <td>...</td>\n",
       "      <td>-0.172371</td>\n",
       "      <td>-0.245542</td>\n",
       "      <td>-0.165751</td>\n",
       "      <td>-0.152907</td>\n",
       "      <td>-0.061825</td>\n",
       "      <td>-0.491576</td>\n",
       "      <td>0.683627</td>\n",
       "      <td>-0.249966</td>\n",
       "      <td>0.732394</td>\n",
       "      <td>525</td>\n",
       "    </tr>\n",
       "    <tr>\n",
       "      <th>3</th>\n",
       "      <td>-0.127548</td>\n",
       "      <td>-0.428152</td>\n",
       "      <td>0.314012</td>\n",
       "      <td>1.492052</td>\n",
       "      <td>0.248454</td>\n",
       "      <td>1.331755</td>\n",
       "      <td>-0.064578</td>\n",
       "      <td>0.021330</td>\n",
       "      <td>-0.076548</td>\n",
       "      <td>-0.216685</td>\n",
       "      <td>...</td>\n",
       "      <td>-0.172371</td>\n",
       "      <td>-0.245542</td>\n",
       "      <td>-0.165751</td>\n",
       "      <td>-0.152907</td>\n",
       "      <td>-0.061825</td>\n",
       "      <td>-0.491576</td>\n",
       "      <td>0.683627</td>\n",
       "      <td>-0.249966</td>\n",
       "      <td>-1.365385</td>\n",
       "      <td>675</td>\n",
       "    </tr>\n",
       "    <tr>\n",
       "      <th>4</th>\n",
       "      <td>-0.127548</td>\n",
       "      <td>-0.428152</td>\n",
       "      <td>0.314012</td>\n",
       "      <td>0.197996</td>\n",
       "      <td>1.313266</td>\n",
       "      <td>-0.460751</td>\n",
       "      <td>-0.719021</td>\n",
       "      <td>0.021330</td>\n",
       "      <td>-0.076548</td>\n",
       "      <td>-0.216685</td>\n",
       "      <td>...</td>\n",
       "      <td>-0.172371</td>\n",
       "      <td>-0.245542</td>\n",
       "      <td>-0.165751</td>\n",
       "      <td>-0.152907</td>\n",
       "      <td>-0.061825</td>\n",
       "      <td>-0.491576</td>\n",
       "      <td>0.683627</td>\n",
       "      <td>-0.249966</td>\n",
       "      <td>-1.365385</td>\n",
       "      <td>650</td>\n",
       "    </tr>\n",
       "  </tbody>\n",
       "</table>\n",
       "<p>5 rows × 46 columns</p>\n",
       "</div>"
      ],
      "text/plain": [
       "   bedrooms  bathrooms  num_reception  latitude  longitude  dist_rail  \\\n",
       "0  0.603825  -0.428152       0.314012 -0.540161  -0.868612   0.261933   \n",
       "1 -0.858921  -0.428152       0.314012 -0.453407  -0.733391  -0.470977   \n",
       "2 -0.127548  -0.428152       1.857043  2.404435  -1.411497   1.824907   \n",
       "3 -0.127548  -0.428152       0.314012  1.492052   0.248454   1.331755   \n",
       "4 -0.127548  -0.428152       0.314012  0.197996   1.313266  -0.460751   \n",
       "\n",
       "   dist_school  bed*recep  bath*recep  property type_Detached house  ...  \\\n",
       "0    -0.605021   0.465122   -0.076548                     -0.216685  ...   \n",
       "1    -0.917464  -0.422462   -0.076548                     -0.216685  ...   \n",
       "2    -0.355911   0.908913    0.735518                     -0.216685  ...   \n",
       "3    -0.064578   0.021330   -0.076548                     -0.216685  ...   \n",
       "4    -0.719021   0.021330   -0.076548                     -0.216685  ...   \n",
       "\n",
       "   month_Mar  month_May  month_Nov  month_Oct  month_Sep  season_spring  \\\n",
       "0  -0.172371  -0.245542  -0.165751  -0.152907  -0.061825      -0.491576   \n",
       "1  -0.172371  -0.245542  -0.165751  -0.152907  -0.061825      -0.491576   \n",
       "2  -0.172371  -0.245542  -0.165751  -0.152907  -0.061825      -0.491576   \n",
       "3  -0.172371  -0.245542  -0.165751  -0.152907  -0.061825      -0.491576   \n",
       "4  -0.172371  -0.245542  -0.165751  -0.152907  -0.061825      -0.491576   \n",
       "\n",
       "   season_summer  season_winter  region_West Midlands  monthly rent  \n",
       "0       0.683627      -0.249966              0.732394          1050  \n",
       "1       0.683627      -0.249966              0.732394           795  \n",
       "2       0.683627      -0.249966              0.732394           525  \n",
       "3       0.683627      -0.249966             -1.365385           675  \n",
       "4       0.683627      -0.249966             -1.365385           650  \n",
       "\n",
       "[5 rows x 46 columns]"
      ]
     },
     "execution_count": 101,
     "metadata": {},
     "output_type": "execute_result"
    }
   ],
   "source": [
    "#Feature scaling the variables using the standard scaler\n",
    "\n",
    "scaler = StandardScaler()\n",
    "\n",
    "#Drop the target to feature scale the independent variables\n",
    "trainset_target = train_set[\"monthly rent\"].values\n",
    "trainset_pred = train_set.drop(\"monthly rent\", axis=1)\n",
    "\n",
    "# fit_transform returns a NumPy array, so we need to put it back \n",
    "# into a Pandas dataframe\n",
    "scaled_vals = scaler.fit_transform(trainset_pred)\n",
    "train_set = pd.DataFrame(scaled_vals, columns=trainset_pred.columns)\n",
    "\n",
    "# put the non-scaled target back in\n",
    "train_set['monthly rent'] = trainset_target\n",
    "\n",
    "# inspect the data\n",
    "train_set.head()"
   ]
  },
  {
   "cell_type": "code",
   "execution_count": 102,
   "id": "6d533d06",
   "metadata": {},
   "outputs": [
    {
     "data": {
      "text/html": [
       "<div>\n",
       "<style scoped>\n",
       "    .dataframe tbody tr th:only-of-type {\n",
       "        vertical-align: middle;\n",
       "    }\n",
       "\n",
       "    .dataframe tbody tr th {\n",
       "        vertical-align: top;\n",
       "    }\n",
       "\n",
       "    .dataframe thead th {\n",
       "        text-align: right;\n",
       "    }\n",
       "</style>\n",
       "<table border=\"1\" class=\"dataframe\">\n",
       "  <thead>\n",
       "    <tr style=\"text-align: right;\">\n",
       "      <th></th>\n",
       "      <th>bedrooms</th>\n",
       "      <th>bathrooms</th>\n",
       "      <th>num_reception</th>\n",
       "      <th>latitude</th>\n",
       "      <th>longitude</th>\n",
       "      <th>dist_rail</th>\n",
       "      <th>dist_school</th>\n",
       "      <th>bed*recep</th>\n",
       "      <th>bath*recep</th>\n",
       "      <th>property type_Detached house</th>\n",
       "      <th>...</th>\n",
       "      <th>month_Mar</th>\n",
       "      <th>month_May</th>\n",
       "      <th>month_Nov</th>\n",
       "      <th>month_Oct</th>\n",
       "      <th>month_Sep</th>\n",
       "      <th>season_spring</th>\n",
       "      <th>season_summer</th>\n",
       "      <th>season_winter</th>\n",
       "      <th>region_West Midlands</th>\n",
       "      <th>monthly rent</th>\n",
       "    </tr>\n",
       "  </thead>\n",
       "  <tbody>\n",
       "    <tr>\n",
       "      <th>0</th>\n",
       "      <td>-0.127548</td>\n",
       "      <td>-0.428152</td>\n",
       "      <td>-1.229019</td>\n",
       "      <td>1.963490</td>\n",
       "      <td>-1.529825</td>\n",
       "      <td>-0.209061</td>\n",
       "      <td>1.590527</td>\n",
       "      <td>-0.866254</td>\n",
       "      <td>-0.888613</td>\n",
       "      <td>-0.216685</td>\n",
       "      <td>...</td>\n",
       "      <td>-0.172371</td>\n",
       "      <td>-0.245542</td>\n",
       "      <td>-0.165751</td>\n",
       "      <td>-0.152907</td>\n",
       "      <td>-0.061825</td>\n",
       "      <td>-0.491576</td>\n",
       "      <td>0.683627</td>\n",
       "      <td>-0.249966</td>\n",
       "      <td>0.732394</td>\n",
       "      <td>895</td>\n",
       "    </tr>\n",
       "    <tr>\n",
       "      <th>1</th>\n",
       "      <td>-0.127548</td>\n",
       "      <td>-0.428152</td>\n",
       "      <td>-1.229019</td>\n",
       "      <td>-1.317940</td>\n",
       "      <td>-0.784950</td>\n",
       "      <td>0.168757</td>\n",
       "      <td>-0.292578</td>\n",
       "      <td>-0.866254</td>\n",
       "      <td>-0.888613</td>\n",
       "      <td>-0.216685</td>\n",
       "      <td>...</td>\n",
       "      <td>-0.172371</td>\n",
       "      <td>-0.245542</td>\n",
       "      <td>-0.165751</td>\n",
       "      <td>-0.152907</td>\n",
       "      <td>-0.061825</td>\n",
       "      <td>-0.491576</td>\n",
       "      <td>0.683627</td>\n",
       "      <td>-0.249966</td>\n",
       "      <td>0.732394</td>\n",
       "      <td>650</td>\n",
       "    </tr>\n",
       "    <tr>\n",
       "      <th>2</th>\n",
       "      <td>-0.858921</td>\n",
       "      <td>-0.428152</td>\n",
       "      <td>0.314012</td>\n",
       "      <td>-0.476201</td>\n",
       "      <td>-0.739119</td>\n",
       "      <td>-0.688010</td>\n",
       "      <td>0.328087</td>\n",
       "      <td>-0.422462</td>\n",
       "      <td>-0.076548</td>\n",
       "      <td>-0.216685</td>\n",
       "      <td>...</td>\n",
       "      <td>-0.172371</td>\n",
       "      <td>-0.245542</td>\n",
       "      <td>-0.165751</td>\n",
       "      <td>-0.152907</td>\n",
       "      <td>-0.061825</td>\n",
       "      <td>-0.491576</td>\n",
       "      <td>0.683627</td>\n",
       "      <td>-0.249966</td>\n",
       "      <td>0.732394</td>\n",
       "      <td>795</td>\n",
       "    </tr>\n",
       "    <tr>\n",
       "      <th>3</th>\n",
       "      <td>-0.127548</td>\n",
       "      <td>-0.428152</td>\n",
       "      <td>0.314012</td>\n",
       "      <td>0.222997</td>\n",
       "      <td>1.207534</td>\n",
       "      <td>0.165916</td>\n",
       "      <td>-0.786576</td>\n",
       "      <td>0.021330</td>\n",
       "      <td>-0.076548</td>\n",
       "      <td>-0.216685</td>\n",
       "      <td>...</td>\n",
       "      <td>-0.172371</td>\n",
       "      <td>-0.245542</td>\n",
       "      <td>-0.165751</td>\n",
       "      <td>-0.152907</td>\n",
       "      <td>-0.061825</td>\n",
       "      <td>-0.491576</td>\n",
       "      <td>0.683627</td>\n",
       "      <td>-0.249966</td>\n",
       "      <td>-1.365385</td>\n",
       "      <td>650</td>\n",
       "    </tr>\n",
       "    <tr>\n",
       "      <th>4</th>\n",
       "      <td>2.066572</td>\n",
       "      <td>4.633014</td>\n",
       "      <td>0.314012</td>\n",
       "      <td>-0.811858</td>\n",
       "      <td>0.347018</td>\n",
       "      <td>-0.109067</td>\n",
       "      <td>-0.398133</td>\n",
       "      <td>1.352705</td>\n",
       "      <td>3.171714</td>\n",
       "      <td>-0.216685</td>\n",
       "      <td>...</td>\n",
       "      <td>-0.172371</td>\n",
       "      <td>-0.245542</td>\n",
       "      <td>-0.165751</td>\n",
       "      <td>-0.152907</td>\n",
       "      <td>-0.061825</td>\n",
       "      <td>-0.491576</td>\n",
       "      <td>0.683627</td>\n",
       "      <td>-0.249966</td>\n",
       "      <td>0.732394</td>\n",
       "      <td>2500</td>\n",
       "    </tr>\n",
       "  </tbody>\n",
       "</table>\n",
       "<p>5 rows × 46 columns</p>\n",
       "</div>"
      ],
      "text/plain": [
       "   bedrooms  bathrooms  num_reception  latitude  longitude  dist_rail  \\\n",
       "0 -0.127548  -0.428152      -1.229019  1.963490  -1.529825  -0.209061   \n",
       "1 -0.127548  -0.428152      -1.229019 -1.317940  -0.784950   0.168757   \n",
       "2 -0.858921  -0.428152       0.314012 -0.476201  -0.739119  -0.688010   \n",
       "3 -0.127548  -0.428152       0.314012  0.222997   1.207534   0.165916   \n",
       "4  2.066572   4.633014       0.314012 -0.811858   0.347018  -0.109067   \n",
       "\n",
       "   dist_school  bed*recep  bath*recep  property type_Detached house  ...  \\\n",
       "0     1.590527  -0.866254   -0.888613                     -0.216685  ...   \n",
       "1    -0.292578  -0.866254   -0.888613                     -0.216685  ...   \n",
       "2     0.328087  -0.422462   -0.076548                     -0.216685  ...   \n",
       "3    -0.786576   0.021330   -0.076548                     -0.216685  ...   \n",
       "4    -0.398133   1.352705    3.171714                     -0.216685  ...   \n",
       "\n",
       "   month_Mar  month_May  month_Nov  month_Oct  month_Sep  season_spring  \\\n",
       "0  -0.172371  -0.245542  -0.165751  -0.152907  -0.061825      -0.491576   \n",
       "1  -0.172371  -0.245542  -0.165751  -0.152907  -0.061825      -0.491576   \n",
       "2  -0.172371  -0.245542  -0.165751  -0.152907  -0.061825      -0.491576   \n",
       "3  -0.172371  -0.245542  -0.165751  -0.152907  -0.061825      -0.491576   \n",
       "4  -0.172371  -0.245542  -0.165751  -0.152907  -0.061825      -0.491576   \n",
       "\n",
       "   season_summer  season_winter  region_West Midlands  monthly rent  \n",
       "0       0.683627      -0.249966              0.732394           895  \n",
       "1       0.683627      -0.249966              0.732394           650  \n",
       "2       0.683627      -0.249966              0.732394           795  \n",
       "3       0.683627      -0.249966             -1.365385           650  \n",
       "4       0.683627      -0.249966              0.732394          2500  \n",
       "\n",
       "[5 rows x 46 columns]"
      ]
     },
     "execution_count": 102,
     "metadata": {},
     "output_type": "execute_result"
    }
   ],
   "source": [
    "#Feature scaling on test set\n",
    "testset_target = test_set[\"monthly rent\"].values\n",
    "testset_predictors = test_set.drop(\"monthly rent\", axis=1)\n",
    "\n",
    "\n",
    "scaled_vals = scaler.transform(testset_predictors)\n",
    "test_set = pd.DataFrame(scaled_vals, columns=testset_predictors.columns)\n",
    "\n",
    "# put the non-scaled target back in\n",
    "test_set['monthly rent'] = testset_target\n",
    "\n",
    "test_set.head()"
   ]
  },
  {
   "cell_type": "code",
   "execution_count": 103,
   "id": "26b64dfb",
   "metadata": {},
   "outputs": [],
   "source": [
    "# drop target from training set, but keep all others\n",
    "X_train = train_set.drop(\"monthly rent\", axis=1)\n",
    "\n",
    "#Only target\n",
    "y_train = train_set[\"monthly rent\"].copy()"
   ]
  },
  {
   "cell_type": "code",
   "execution_count": 104,
   "id": "e735718c",
   "metadata": {},
   "outputs": [],
   "source": [
    "# drop target from test set, but keep all others\n",
    "X_test = test_set.drop(\"monthly rent\", axis=1)\n",
    "\n",
    "#Only target\n",
    "y_test = test_set[\"monthly rent\"].copy()"
   ]
  },
  {
   "cell_type": "code",
   "execution_count": 105,
   "id": "ec494564",
   "metadata": {},
   "outputs": [],
   "source": [
    "#Defining a function to calculate cross validation scores\n",
    "def display_crosval_scores(model):\n",
    "    mae_scores = cross_val_score(model, X_train, y_train, scoring=\"neg_mean_absolute_error\", cv=10)\n",
    "    mae_scores = -mae_scores\n",
    "    mse_scores = cross_val_score(model, X_train, y_train,scoring=\"neg_mean_squared_error\", cv=10)\n",
    "    rmse_scores = np.sqrt(-mse_scores)\n",
    "    r2_scores = cross_val_score(model, X_train, y_train, scoring=\"r2\", cv=10)\n",
    "    r2_scores.mean()\n",
    "    print('MAE:', mae_scores.mean())\n",
    "    print('RMSE:', rmse_scores.mean())\n",
    "    print('R2 Square:', r2_scores.mean())\n",
    "    print('__________________________________')\n",
    "\n",
    "#Defining a function to perform cross validation\n",
    "def cross_val(model):\n",
    "    mae_scores = cross_val_score(model, X_train, y_train, scoring=\"neg_mean_absolute_error\", cv=10)\n",
    "    mae_scores = -mae_scores\n",
    "    mse_scores = cross_val_score(model, X_train, y_train,scoring=\"neg_mean_squared_error\", cv=10)\n",
    "    rmse_scores = np.sqrt(-mse_scores)\n",
    "    r2_scores = cross_val_score(model, X_train, y_train, scoring=\"r2\", cv=10)\n",
    "    r2_scores.mean()\n",
    "    return mae_scores.mean(), rmse_scores.mean(), r2_scores.mean()\n",
    "\n",
    "#Defining a function to print model scores\n",
    "def print_evaluate(true, predicted):  \n",
    "    mae = metrics.mean_absolute_error(true, predicted)\n",
    "    rmse = np.sqrt(metrics.mean_squared_error(true, predicted))\n",
    "    r2_square = metrics.r2_score(true, predicted)\n",
    "    print('MAE:', mae)\n",
    "    print('RMSE:', rmse)\n",
    "    print('R2 Square', r2_square)\n",
    "    print('__________________________________')\n",
    "    \n",
    "#Defining a function to evaluate the model \n",
    "def evaluate(true, predicted):\n",
    "    mae = metrics.mean_absolute_error(true, predicted)\n",
    "    rmse = np.sqrt(metrics.mean_squared_error(true, predicted))\n",
    "    r2_square = metrics.r2_score(true, predicted)\n",
    "    return mae, rmse, r2_square"
   ]
  },
  {
   "cell_type": "code",
   "execution_count": 106,
   "id": "a9b50c6c",
   "metadata": {},
   "outputs": [],
   "source": [
    "#Build NN model\n",
    "basic_nn = MLPRegressor()"
   ]
  },
  {
   "cell_type": "code",
   "execution_count": 107,
   "id": "3a82f9bd",
   "metadata": {},
   "outputs": [
    {
     "data": {
      "text/plain": [
       "MLPRegressor()"
      ]
     },
     "execution_count": 107,
     "metadata": {},
     "output_type": "execute_result"
    }
   ],
   "source": [
    "#fit to training set\n",
    "basic_nn.fit(X_train, y_train)"
   ]
  },
  {
   "cell_type": "code",
   "execution_count": 109,
   "id": "2e8e3a50",
   "metadata": {},
   "outputs": [],
   "source": [
    "#predict y in training set\n",
    "base_train = basic_nn.predict(X_train)"
   ]
  },
  {
   "cell_type": "code",
   "execution_count": 110,
   "id": "12beec6c",
   "metadata": {},
   "outputs": [
    {
     "data": {
      "text/html": [
       "<div>\n",
       "<style scoped>\n",
       "    .dataframe tbody tr th:only-of-type {\n",
       "        vertical-align: middle;\n",
       "    }\n",
       "\n",
       "    .dataframe tbody tr th {\n",
       "        vertical-align: top;\n",
       "    }\n",
       "\n",
       "    .dataframe thead th {\n",
       "        text-align: right;\n",
       "    }\n",
       "</style>\n",
       "<table border=\"1\" class=\"dataframe\">\n",
       "  <thead>\n",
       "    <tr style=\"text-align: right;\">\n",
       "      <th></th>\n",
       "      <th>Neural Network</th>\n",
       "      <th>Hidden Layers</th>\n",
       "      <th>MAE</th>\n",
       "      <th>RMSE</th>\n",
       "      <th>R2 Square</th>\n",
       "    </tr>\n",
       "  </thead>\n",
       "  <tbody>\n",
       "    <tr>\n",
       "      <th>0</th>\n",
       "      <td>Training Set</td>\n",
       "      <td>1</td>\n",
       "      <td>131.636008</td>\n",
       "      <td>216.356599</td>\n",
       "      <td>0.828271</td>\n",
       "    </tr>\n",
       "  </tbody>\n",
       "</table>\n",
       "</div>"
      ],
      "text/plain": [
       "  Neural Network Hidden Layers         MAE        RMSE  R2 Square\n",
       "0   Training Set             1  131.636008  216.356599   0.828271"
      ]
     },
     "execution_count": 110,
     "metadata": {},
     "output_type": "execute_result"
    }
   ],
   "source": [
    "#model results in a df\n",
    "train = pd.DataFrame(data=[[\"Training Set\",\"1\",*evaluate(y_train, base_train)]], \n",
    "                          columns=[\"Neural Network\",\"Hidden Layers\",'MAE', 'RMSE', 'R2 Square'])\n",
    "train"
   ]
  },
  {
   "cell_type": "code",
   "execution_count": 112,
   "id": "63641ca0",
   "metadata": {},
   "outputs": [
    {
     "data": {
      "text/html": [
       "<div>\n",
       "<style scoped>\n",
       "    .dataframe tbody tr th:only-of-type {\n",
       "        vertical-align: middle;\n",
       "    }\n",
       "\n",
       "    .dataframe tbody tr th {\n",
       "        vertical-align: top;\n",
       "    }\n",
       "\n",
       "    .dataframe thead th {\n",
       "        text-align: right;\n",
       "    }\n",
       "</style>\n",
       "<table border=\"1\" class=\"dataframe\">\n",
       "  <thead>\n",
       "    <tr style=\"text-align: right;\">\n",
       "      <th></th>\n",
       "      <th>Neural Network</th>\n",
       "      <th>MAE</th>\n",
       "      <th>RMSE</th>\n",
       "      <th>R2 Square</th>\n",
       "    </tr>\n",
       "  </thead>\n",
       "  <tbody>\n",
       "    <tr>\n",
       "      <th>0</th>\n",
       "      <td>Cross Validation</td>\n",
       "      <td>137.586031</td>\n",
       "      <td>228.245558</td>\n",
       "      <td>0.807488</td>\n",
       "    </tr>\n",
       "  </tbody>\n",
       "</table>\n",
       "</div>"
      ],
      "text/plain": [
       "     Neural Network         MAE        RMSE  R2 Square\n",
       "0  Cross Validation  137.586031  228.245558   0.807488"
      ]
     },
     "execution_count": 112,
     "metadata": {},
     "output_type": "execute_result"
    }
   ],
   "source": [
    "#evaluate using cross validation\n",
    "\n",
    "results_cv = pd.DataFrame(data=[[\"Cross Validation\", *cross_val(basic_nn)]], \n",
    "                          columns=['Neural Network', 'MAE', 'RMSE', 'R2 Square'])\n",
    "results_cv"
   ]
  },
  {
   "cell_type": "code",
   "execution_count": 207,
   "id": "4475dd54",
   "metadata": {},
   "outputs": [
    {
     "name": "stdout",
     "output_type": "stream",
     "text": [
      "{'solver': 'adam', 'hidden_layer_sizes': (50,), 'activation': 'relu'}\n"
     ]
    }
   ],
   "source": [
    "#Use random search to optimise hyperparameters to better fit the data\n",
    "#Specify range of param values\n",
    "param_grid = [\n",
    "    {'hidden_layer_sizes': [(25,), (30,), (40,), (45,), (50,)], 'activation':['relu', 'logistic'],\n",
    "     'solver':['adam'],\n",
    "     }\n",
    "     \n",
    "]\n",
    "\n",
    "mlp = MLPRegressor(random_state=7)\n",
    "\n",
    "# we'll use 10-fold cross-validation\n",
    "rand_grid_search = RandomizedSearchCV(mlp, param_grid, cv=10, scoring='neg_mean_squared_error', return_train_score=True)\n",
    "                           \n",
    "\n",
    "rand_grid_search.fit(X_train, y_train)\n",
    "print(rand_grid_search.best_params_)"
   ]
  },
  {
   "cell_type": "code",
   "execution_count": 95,
   "id": "3dd6c930",
   "metadata": {},
   "outputs": [
    {
     "data": {
      "text/plain": [
       "223.608617851291"
      ]
     },
     "execution_count": 95,
     "metadata": {},
     "output_type": "execute_result"
    }
   ],
   "source": [
    "#best score from results\n",
    "np.sqrt(-rand_grid_search.best_score_)"
   ]
  },
  {
   "cell_type": "code",
   "execution_count": 113,
   "id": "db59bc33",
   "metadata": {},
   "outputs": [],
   "source": [
    "#build a model to tune the hyperparameters\n",
    "nn = MLPRegressor(hidden_layer_sizes=(50, ),activation=\"relu\",solver='adam', learning_rate='constant', max_iter=500, random_state=0)\n",
    "\n"
   ]
  },
  {
   "cell_type": "code",
   "execution_count": 48,
   "id": "d07b1d5b",
   "metadata": {},
   "outputs": [
    {
     "data": {
      "text/html": [
       "<div>\n",
       "<style scoped>\n",
       "    .dataframe tbody tr th:only-of-type {\n",
       "        vertical-align: middle;\n",
       "    }\n",
       "\n",
       "    .dataframe tbody tr th {\n",
       "        vertical-align: top;\n",
       "    }\n",
       "\n",
       "    .dataframe thead th {\n",
       "        text-align: right;\n",
       "    }\n",
       "</style>\n",
       "<table border=\"1\" class=\"dataframe\">\n",
       "  <thead>\n",
       "    <tr style=\"text-align: right;\">\n",
       "      <th></th>\n",
       "      <th>Neural Network</th>\n",
       "      <th>MAE</th>\n",
       "      <th>RMSE</th>\n",
       "      <th>R2 Square</th>\n",
       "    </tr>\n",
       "  </thead>\n",
       "  <tbody>\n",
       "    <tr>\n",
       "      <th>0</th>\n",
       "      <td>Cross Validation</td>\n",
       "      <td>135.350421</td>\n",
       "      <td>223.54569</td>\n",
       "      <td>0.815033</td>\n",
       "    </tr>\n",
       "  </tbody>\n",
       "</table>\n",
       "</div>"
      ],
      "text/plain": [
       "     Neural Network         MAE       RMSE  R2 Square\n",
       "0  Cross Validation  135.350421  223.54569   0.815033"
      ]
     },
     "execution_count": 48,
     "metadata": {},
     "output_type": "execute_result"
    }
   ],
   "source": [
    "#Apply cross validation to tune and evaluate model\n",
    "\n",
    "results_cv = pd.DataFrame(data=[[\"Cross Validation\", *cross_val(nn)]], \n",
    "                          columns=['Neural Network', 'MAE', 'RMSE', 'R2 Square'])\n",
    "results_cv"
   ]
  },
  {
   "cell_type": "code",
   "execution_count": 54,
   "id": "da1aa87e",
   "metadata": {},
   "outputs": [],
   "source": [
    "#Calculate CV scores for visualisation\n",
    "mse_scores = cross_val_score(nn, X_train, y_train,scoring=\"neg_mean_squared_error\", cv=10)\n",
    "rmse_scores = np.sqrt(-mse_scores)\n",
    "mae_scores = cross_val_score(nn, X_train, y_train, scoring=\"neg_mean_absolute_error\", cv=10)\n",
    "mae_scores = -mae_scores\n",
    "r2_scores = cross_val_score(nn, X_train, y_train, scoring=\"r2\", cv=10)"
   ]
  },
  {
   "cell_type": "code",
   "execution_count": 55,
   "id": "0b332189",
   "metadata": {},
   "outputs": [
    {
     "data": {
      "text/html": [
       "<div>\n",
       "<style scoped>\n",
       "    .dataframe tbody tr th:only-of-type {\n",
       "        vertical-align: middle;\n",
       "    }\n",
       "\n",
       "    .dataframe tbody tr th {\n",
       "        vertical-align: top;\n",
       "    }\n",
       "\n",
       "    .dataframe thead th {\n",
       "        text-align: right;\n",
       "    }\n",
       "</style>\n",
       "<table border=\"1\" class=\"dataframe\">\n",
       "  <thead>\n",
       "    <tr style=\"text-align: right;\">\n",
       "      <th></th>\n",
       "      <th>rmse scores</th>\n",
       "      <th>mae scores</th>\n",
       "      <th>r2 scores</th>\n",
       "    </tr>\n",
       "  </thead>\n",
       "  <tbody>\n",
       "    <tr>\n",
       "      <th>0</th>\n",
       "      <td>218.827664</td>\n",
       "      <td>132.104193</td>\n",
       "      <td>0.790069</td>\n",
       "    </tr>\n",
       "    <tr>\n",
       "      <th>1</th>\n",
       "      <td>197.977619</td>\n",
       "      <td>126.164355</td>\n",
       "      <td>0.823032</td>\n",
       "    </tr>\n",
       "    <tr>\n",
       "      <th>2</th>\n",
       "      <td>204.751933</td>\n",
       "      <td>130.803412</td>\n",
       "      <td>0.842434</td>\n",
       "    </tr>\n",
       "    <tr>\n",
       "      <th>3</th>\n",
       "      <td>232.729454</td>\n",
       "      <td>142.919516</td>\n",
       "      <td>0.801770</td>\n",
       "    </tr>\n",
       "    <tr>\n",
       "      <th>4</th>\n",
       "      <td>228.486415</td>\n",
       "      <td>136.614435</td>\n",
       "      <td>0.815775</td>\n",
       "    </tr>\n",
       "    <tr>\n",
       "      <th>5</th>\n",
       "      <td>238.799634</td>\n",
       "      <td>139.944737</td>\n",
       "      <td>0.829994</td>\n",
       "    </tr>\n",
       "    <tr>\n",
       "      <th>6</th>\n",
       "      <td>222.733213</td>\n",
       "      <td>135.485375</td>\n",
       "      <td>0.797207</td>\n",
       "    </tr>\n",
       "    <tr>\n",
       "      <th>7</th>\n",
       "      <td>220.540989</td>\n",
       "      <td>137.389467</td>\n",
       "      <td>0.832020</td>\n",
       "    </tr>\n",
       "    <tr>\n",
       "      <th>8</th>\n",
       "      <td>235.357242</td>\n",
       "      <td>135.141456</td>\n",
       "      <td>0.816766</td>\n",
       "    </tr>\n",
       "    <tr>\n",
       "      <th>9</th>\n",
       "      <td>235.252735</td>\n",
       "      <td>136.937265</td>\n",
       "      <td>0.801261</td>\n",
       "    </tr>\n",
       "  </tbody>\n",
       "</table>\n",
       "</div>"
      ],
      "text/plain": [
       "   rmse scores  mae scores  r2 scores\n",
       "0   218.827664  132.104193   0.790069\n",
       "1   197.977619  126.164355   0.823032\n",
       "2   204.751933  130.803412   0.842434\n",
       "3   232.729454  142.919516   0.801770\n",
       "4   228.486415  136.614435   0.815775\n",
       "5   238.799634  139.944737   0.829994\n",
       "6   222.733213  135.485375   0.797207\n",
       "7   220.540989  137.389467   0.832020\n",
       "8   235.357242  135.141456   0.816766\n",
       "9   235.252735  136.937265   0.801261"
      ]
     },
     "execution_count": 55,
     "metadata": {},
     "output_type": "execute_result"
    }
   ],
   "source": [
    "#Cross validation scores\n",
    "df_scores=pd.DataFrame({'rmse scores':rmse_scores,'mae scores':mae_scores, 'r2 scores':r2_scores}) \n",
    "df_scores"
   ]
  },
  {
   "cell_type": "code",
   "execution_count": 56,
   "id": "788c4c84",
   "metadata": {},
   "outputs": [
    {
     "data": {
      "image/png": "[encoded data removed]",
      "text/plain": [
       "<Figure size 720x360 with 3 Axes>"
      ]
     },
     "metadata": {
      "needs_background": "light"
     },
     "output_type": "display_data"
    }
   ],
   "source": [
    "#Histograms of MAE, RMSE and R2 from the CV\n",
    "\n",
    "df_scores=pd.DataFrame({'rmse scores':rmse_scores,'mae scores':mae_scores, 'r2 scores':r2_scores}) \n",
    "\n",
    "fig, (ax1, ax2, ax3) = plt.subplots(1,3)\n",
    "fig.set_size_inches(10, 5)\n",
    "\n",
    "sns.histplot(df_scores['mae scores'],ax=ax1)\n",
    "sns.histplot(df_scores['rmse scores'],ax=ax2)\n",
    "sns.histplot(df_scores['r2 scores'],ax=ax3)\n",
    "\n",
    "plt.tight_layout()\n",
    "plt.show()"
   ]
  },
  {
   "cell_type": "code",
   "execution_count": 114,
   "id": "1a4420d0",
   "metadata": {},
   "outputs": [
    {
     "data": {
      "text/plain": [
       "MLPRegressor(hidden_layer_sizes=(50,), max_iter=500, random_state=0)"
      ]
     },
     "execution_count": 114,
     "metadata": {},
     "output_type": "execute_result"
    }
   ],
   "source": [
    "#train the new model on training data\n",
    "nn.fit(X_train, y_train)"
   ]
  },
  {
   "cell_type": "code",
   "execution_count": 115,
   "id": "e19edadf",
   "metadata": {},
   "outputs": [],
   "source": [
    "#predict y in training data\n",
    "train = nn.predict(X_train)"
   ]
  },
  {
   "cell_type": "code",
   "execution_count": 116,
   "id": "dfd5e725",
   "metadata": {},
   "outputs": [
    {
     "data": {
      "text/html": [
       "<div>\n",
       "<style scoped>\n",
       "    .dataframe tbody tr th:only-of-type {\n",
       "        vertical-align: middle;\n",
       "    }\n",
       "\n",
       "    .dataframe tbody tr th {\n",
       "        vertical-align: top;\n",
       "    }\n",
       "\n",
       "    .dataframe thead th {\n",
       "        text-align: right;\n",
       "    }\n",
       "</style>\n",
       "<table border=\"1\" class=\"dataframe\">\n",
       "  <thead>\n",
       "    <tr style=\"text-align: right;\">\n",
       "      <th></th>\n",
       "      <th>Neural Network</th>\n",
       "      <th>MAE</th>\n",
       "      <th>RMSE</th>\n",
       "      <th>R2 Square</th>\n",
       "    </tr>\n",
       "  </thead>\n",
       "  <tbody>\n",
       "    <tr>\n",
       "      <th>0</th>\n",
       "      <td>Training Set</td>\n",
       "      <td>127.703193</td>\n",
       "      <td>209.727082</td>\n",
       "      <td>0.838634</td>\n",
       "    </tr>\n",
       "  </tbody>\n",
       "</table>\n",
       "</div>"
      ],
      "text/plain": [
       "  Neural Network         MAE        RMSE  R2 Square\n",
       "0   Training Set  127.703193  209.727082   0.838634"
      ]
     },
     "execution_count": 116,
     "metadata": {},
     "output_type": "execute_result"
    }
   ],
   "source": [
    "#Results of training data in a df\n",
    "tr = pd.DataFrame(data=[[\"Training Set\",*evaluate(y_train, train)]], \n",
    "                          columns=[\"Neural Network\",'MAE', 'RMSE', 'R2 Square'])\n",
    "tr"
   ]
  },
  {
   "cell_type": "code",
   "execution_count": 117,
   "id": "b7803aa9",
   "metadata": {},
   "outputs": [],
   "source": [
    "#Test on unseen data\n",
    "test= nn.predict(X_test)"
   ]
  },
  {
   "cell_type": "code",
   "execution_count": 118,
   "id": "e3b89948",
   "metadata": {},
   "outputs": [
    {
     "data": {
      "text/html": [
       "<div>\n",
       "<style scoped>\n",
       "    .dataframe tbody tr th:only-of-type {\n",
       "        vertical-align: middle;\n",
       "    }\n",
       "\n",
       "    .dataframe tbody tr th {\n",
       "        vertical-align: top;\n",
       "    }\n",
       "\n",
       "    .dataframe thead th {\n",
       "        text-align: right;\n",
       "    }\n",
       "</style>\n",
       "<table border=\"1\" class=\"dataframe\">\n",
       "  <thead>\n",
       "    <tr style=\"text-align: right;\">\n",
       "      <th></th>\n",
       "      <th>Neural Network</th>\n",
       "      <th>MAE</th>\n",
       "      <th>RMSE</th>\n",
       "      <th>R2 Square</th>\n",
       "    </tr>\n",
       "  </thead>\n",
       "  <tbody>\n",
       "    <tr>\n",
       "      <th>0</th>\n",
       "      <td>Test Set</td>\n",
       "      <td>134.821101</td>\n",
       "      <td>227.815657</td>\n",
       "      <td>0.812584</td>\n",
       "    </tr>\n",
       "  </tbody>\n",
       "</table>\n",
       "</div>"
      ],
      "text/plain": [
       "  Neural Network         MAE        RMSE  R2 Square\n",
       "0       Test Set  134.821101  227.815657   0.812584"
      ]
     },
     "execution_count": 118,
     "metadata": {},
     "output_type": "execute_result"
    }
   ],
   "source": [
    "#Results in a df, values closer to cross validation results\n",
    "te = pd.DataFrame(data=[[\"Test Set\",*evaluate(y_test, test)]], \n",
    "                          columns=[\"Neural Network\",'MAE', 'RMSE', 'R2 Square'])\n",
    "te"
   ]
  },
  {
   "cell_type": "code",
   "execution_count": 119,
   "id": "009de4de",
   "metadata": {},
   "outputs": [
    {
     "data": {
      "text/html": [
       "<div>\n",
       "<style scoped>\n",
       "    .dataframe tbody tr th:only-of-type {\n",
       "        vertical-align: middle;\n",
       "    }\n",
       "\n",
       "    .dataframe tbody tr th {\n",
       "        vertical-align: top;\n",
       "    }\n",
       "\n",
       "    .dataframe thead th {\n",
       "        text-align: right;\n",
       "    }\n",
       "</style>\n",
       "<table border=\"1\" class=\"dataframe\">\n",
       "  <thead>\n",
       "    <tr style=\"text-align: right;\">\n",
       "      <th></th>\n",
       "      <th>Neural Network</th>\n",
       "      <th>MAE</th>\n",
       "      <th>RMSE</th>\n",
       "      <th>R2 Square</th>\n",
       "    </tr>\n",
       "  </thead>\n",
       "  <tbody>\n",
       "    <tr>\n",
       "      <th>0</th>\n",
       "      <td>Training Set</td>\n",
       "      <td>127.703193</td>\n",
       "      <td>209.727082</td>\n",
       "      <td>0.838634</td>\n",
       "    </tr>\n",
       "    <tr>\n",
       "      <th>1</th>\n",
       "      <td>Test Set</td>\n",
       "      <td>134.821101</td>\n",
       "      <td>227.815657</td>\n",
       "      <td>0.812584</td>\n",
       "    </tr>\n",
       "  </tbody>\n",
       "</table>\n",
       "</div>"
      ],
      "text/plain": [
       "  Neural Network         MAE        RMSE  R2 Square\n",
       "0   Training Set  127.703193  209.727082   0.838634\n",
       "1       Test Set  134.821101  227.815657   0.812584"
      ]
     },
     "execution_count": 119,
     "metadata": {},
     "output_type": "execute_result"
    }
   ],
   "source": [
    "#combine results of train and test\n",
    "re_nn = tr.append(te, ignore_index=True)\n",
    "re_nn"
   ]
  },
  {
   "cell_type": "code",
   "execution_count": 52,
   "id": "acd6fbe1",
   "metadata": {},
   "outputs": [
    {
     "data": {
      "text/html": [
       "<div>\n",
       "<style scoped>\n",
       "    .dataframe tbody tr th:only-of-type {\n",
       "        vertical-align: middle;\n",
       "    }\n",
       "\n",
       "    .dataframe tbody tr th {\n",
       "        vertical-align: top;\n",
       "    }\n",
       "\n",
       "    .dataframe thead th {\n",
       "        text-align: right;\n",
       "    }\n",
       "</style>\n",
       "<table border=\"1\" class=\"dataframe\">\n",
       "  <thead>\n",
       "    <tr style=\"text-align: right;\">\n",
       "      <th></th>\n",
       "      <th>Hyperparameters (ANN)</th>\n",
       "      <th>Values</th>\n",
       "    </tr>\n",
       "  </thead>\n",
       "  <tbody>\n",
       "    <tr>\n",
       "      <th>0</th>\n",
       "      <td>hidden_layer_sizes</td>\n",
       "      <td>50</td>\n",
       "    </tr>\n",
       "    <tr>\n",
       "      <th>1</th>\n",
       "      <td>activation</td>\n",
       "      <td>relu</td>\n",
       "    </tr>\n",
       "    <tr>\n",
       "      <th>2</th>\n",
       "      <td>solver</td>\n",
       "      <td>adam</td>\n",
       "    </tr>\n",
       "    <tr>\n",
       "      <th>3</th>\n",
       "      <td>learning_rate</td>\n",
       "      <td>constant</td>\n",
       "    </tr>\n",
       "    <tr>\n",
       "      <th>4</th>\n",
       "      <td>max_iter</td>\n",
       "      <td>500</td>\n",
       "    </tr>\n",
       "  </tbody>\n",
       "</table>\n",
       "</div>"
      ],
      "text/plain": [
       "  Hyperparameters (ANN)    Values\n",
       "0    hidden_layer_sizes        50\n",
       "1            activation      relu\n",
       "2                solver      adam\n",
       "3         learning_rate  constant\n",
       "4              max_iter       500"
      ]
     },
     "execution_count": 52,
     "metadata": {},
     "output_type": "execute_result"
    }
   ],
   "source": [
    "#For report\n",
    "parameters = pd.DataFrame(data=[[\"hidden_layer_sizes\", \"50\"],[\"activation\", \"relu\"], [\"solver\", \"adam\"], \n",
    "                                [\"learning_rate\", \"constant\"], [\"max_iter\", \"500\"]], \n",
    "                          columns=['Hyperparameters (ANN)', 'Values'])\n",
    "parameters"
   ]
  },
  {
   "cell_type": "code",
   "execution_count": 57,
   "id": "cc149702",
   "metadata": {},
   "outputs": [
    {
     "data": {
      "image/png": "[encoded data removed]",
      "text/plain": [
       "<Figure size 576x396 with 1 Axes>"
      ]
     },
     "metadata": {},
     "output_type": "display_data"
    }
   ],
   "source": [
    "#Visualise Actual vs Predict plot\n",
    "\n",
    "visualizer = prediction_error(nn, X_train, y_train, X_test, y_test)"
   ]
  },
  {
   "cell_type": "code",
   "execution_count": 151,
   "id": "ea3d9ad7",
   "metadata": {},
   "outputs": [],
   "source": [
    "#To plot learning curve for the model\n",
    "\n",
    "train_errors, test_errors = [], []\n",
    "\n",
    "for m in range(50, len(X_train), 100):\n",
    "    nn.fit(X_train[:m], y_train[:m])\n",
    "    y_train_predict = nn.predict(X_train[:m])\n",
    "    y_test_predict = nn.predict(X_test)\n",
    "    train_rmse = np.sqrt(mean_squared_error(y_train_predict, y_train[:m]))\n",
    "    test_rmse = np.sqrt(mean_squared_error(y_test_predict, y_test))\n",
    "    train_errors.append(train_rmse)\n",
    "    test_errors.append(test_rmse)\n",
    "\n"
   ]
  },
  {
   "cell_type": "code",
   "execution_count": 152,
   "id": "d864ad19",
   "metadata": {
    "scrolled": true
   },
   "outputs": [
    {
     "data": {
      "text/plain": [
       "(150.0, 1000.0)"
      ]
     },
     "execution_count": 152,
     "metadata": {},
     "output_type": "execute_result"
    },
    {
     "data": {
      "image/png": "[encoded data removed]",
      "text/plain": [
       "<Figure size 432x288 with 1 Axes>"
      ]
     },
     "metadata": {
      "needs_background": "light"
     },
     "output_type": "display_data"
    }
   ],
   "source": [
    "#Plot the learning curve\n",
    "plt.plot(train_errors, \"r-\",linewidth=2, label=\"train\")\n",
    "plt.plot(test_errors, \"b-\", linewidth=3, label=\"test\")\n",
    "plt.legend(loc=\"upper right\")\n",
    "plt.figsize=(8,8)\n",
    "plt.xlabel(\"Training set size in 100s\")\n",
    "plt.ylabel(\"RMSE\")\n",
    "plt.ylim((150, 1000))"
   ]
  },
  {
   "cell_type": "markdown",
   "id": "9e71ea4d",
   "metadata": {},
   "source": [
    "<b>Model Comparison plots for the report</b>"
   ]
  },
  {
   "cell_type": "code",
   "execution_count": 143,
   "id": "7661ef96",
   "metadata": {},
   "outputs": [
    {
     "data": {
      "text/html": [
       "<div>\n",
       "<style scoped>\n",
       "    .dataframe tbody tr th:only-of-type {\n",
       "        vertical-align: middle;\n",
       "    }\n",
       "\n",
       "    .dataframe tbody tr th {\n",
       "        vertical-align: top;\n",
       "    }\n",
       "\n",
       "    .dataframe thead th {\n",
       "        text-align: right;\n",
       "    }\n",
       "</style>\n",
       "<table border=\"1\" class=\"dataframe\">\n",
       "  <thead>\n",
       "    <tr style=\"text-align: right;\">\n",
       "      <th></th>\n",
       "      <th>models</th>\n",
       "      <th>MAE</th>\n",
       "      <th>RMSE</th>\n",
       "      <th>R2</th>\n",
       "    </tr>\n",
       "  </thead>\n",
       "  <tbody>\n",
       "    <tr>\n",
       "      <th>0</th>\n",
       "      <td>XGBoost</td>\n",
       "      <td>114.8318</td>\n",
       "      <td>204.9405</td>\n",
       "      <td>0.8483</td>\n",
       "    </tr>\n",
       "    <tr>\n",
       "      <th>1</th>\n",
       "      <td>Random Forest</td>\n",
       "      <td>119.5418</td>\n",
       "      <td>213.2151</td>\n",
       "      <td>0.8358</td>\n",
       "    </tr>\n",
       "    <tr>\n",
       "      <th>2</th>\n",
       "      <td>ANN</td>\n",
       "      <td>134.8211</td>\n",
       "      <td>227.8157</td>\n",
       "      <td>0.8126</td>\n",
       "    </tr>\n",
       "    <tr>\n",
       "      <th>3</th>\n",
       "      <td>Decision Tree</td>\n",
       "      <td>135.9601</td>\n",
       "      <td>233.4544</td>\n",
       "      <td>0.8032</td>\n",
       "    </tr>\n",
       "    <tr>\n",
       "      <th>4</th>\n",
       "      <td>LASSO</td>\n",
       "      <td>162.2170</td>\n",
       "      <td>254.0587</td>\n",
       "      <td>0.7669</td>\n",
       "    </tr>\n",
       "    <tr>\n",
       "      <th>5</th>\n",
       "      <td>MLR</td>\n",
       "      <td>162.3675</td>\n",
       "      <td>254.1566</td>\n",
       "      <td>0.7667</td>\n",
       "    </tr>\n",
       "  </tbody>\n",
       "</table>\n",
       "</div>"
      ],
      "text/plain": [
       "          models       MAE      RMSE      R2\n",
       "0        XGBoost  114.8318  204.9405  0.8483\n",
       "1  Random Forest  119.5418  213.2151  0.8358\n",
       "2            ANN  134.8211  227.8157  0.8126\n",
       "3  Decision Tree  135.9601  233.4544  0.8032\n",
       "4          LASSO  162.2170  254.0587  0.7669\n",
       "5            MLR  162.3675  254.1566  0.7667"
      ]
     },
     "execution_count": 143,
     "metadata": {},
     "output_type": "execute_result"
    }
   ],
   "source": [
    "#For Report\n",
    "#Create a DF with results from all the models\n",
    "\n",
    "data = np.array([[\"XGBoost\",\"114.8318\",\"204.9405\", \"0.8483\"],\n",
    "                 [\"Random Forest\",\"119.5418\",\"213.2151\", \"0.8358\"],\n",
    "                 [\"ANN\",\"134.8211\",\"227.8157\", \"0.8126\"],\n",
    "                 [\"Decision Tree\",\"135.9601\",\"233.4544\", \"0.8032\"],\n",
    "                 [\"LASSO\",\"162.2170\",\"254.0587\", \"0.7669\"],\n",
    "                 [\"MLR\",\"162.3675\",\"254.1566\", \"0.7667\"]]) \n",
    "\n",
    "# pass column names in the columns parameter \n",
    "df_report = pd.DataFrame(data, columns = ['models', 'MAE','RMSE', \"R2\"])\n",
    "df_report"
   ]
  },
  {
   "cell_type": "code",
   "execution_count": 144,
   "id": "829b603c",
   "metadata": {},
   "outputs": [
    {
     "name": "stdout",
     "output_type": "stream",
     "text": [
      "<class 'pandas.core.frame.DataFrame'>\n",
      "RangeIndex: 6 entries, 0 to 5\n",
      "Data columns (total 4 columns):\n",
      " #   Column  Non-Null Count  Dtype  \n",
      "---  ------  --------------  -----  \n",
      " 0   models  6 non-null      object \n",
      " 1   MAE     6 non-null      float64\n",
      " 2   RMSE    6 non-null      float64\n",
      " 3   R2      6 non-null      float64\n",
      "dtypes: float64(3), object(1)\n",
      "memory usage: 320.0+ bytes\n",
      "None\n"
     ]
    }
   ],
   "source": [
    "#Change data types from object to float\n",
    "df_report['MAE'] = df_report['MAE'].astype(float, errors = 'raise')\n",
    "df_report['RMSE'] = df_report['RMSE'].astype(float, errors = 'raise')\n",
    "df_report['R2'] = df_report['R2'].astype(float, errors = 'raise')\n",
    "print(df_report.info())"
   ]
  },
  {
   "cell_type": "code",
   "execution_count": 145,
   "id": "8b73f3a6",
   "metadata": {},
   "outputs": [],
   "source": [
    "#Select columns for plot\n",
    "mod=df_report['models']\n",
    "mae=df_report['MAE']\n",
    "rmse=df_report['RMSE']\n",
    "r2=df_report['R2']"
   ]
  },
  {
   "cell_type": "code",
   "execution_count": 140,
   "id": "fc293da4",
   "metadata": {},
   "outputs": [
    {
     "data": {
      "image/png": "[encoded data removed]",
      "text/plain": [
       "<Figure size 432x288 with 1 Axes>"
      ]
     },
     "metadata": {
      "needs_background": "light"
     },
     "output_type": "display_data"
    }
   ],
   "source": [
    "#Visualise comparison of MAE error values of all models\n",
    "c_pal= sns.color_palette(\"husl\", 8)\n",
    "\n",
    "sns.barplot(x=\"models\",y=\"MAE\",palette=c_pal, data=df_report)\n",
    "plt.xticks(rotation=45)\n",
    "plt.show()\n"
   ]
  },
  {
   "cell_type": "code",
   "execution_count": 146,
   "id": "9caafae1",
   "metadata": {},
   "outputs": [
    {
     "data": {
      "image/png": "[encoded data removed]",
      "text/plain": [
       "<Figure size 432x288 with 1 Axes>"
      ]
     },
     "metadata": {
      "needs_background": "light"
     },
     "output_type": "display_data"
    }
   ],
   "source": [
    "#Visualise comparison of RMSE error values of all models\n",
    "c_pal= sns.color_palette(\"husl\", 8)\n",
    "\n",
    "sns.barplot(x=\"models\",y=\"RMSE\",palette=c_pal, data=df_report)\n",
    "plt.xticks(rotation=45)\n",
    "plt.show()"
   ]
  },
  {
   "cell_type": "code",
   "execution_count": 147,
   "id": "bff869d9",
   "metadata": {},
   "outputs": [
    {
     "data": {
      "image/png": "[encoded data removed]",
      "text/plain": [
       "<Figure size 432x288 with 1 Axes>"
      ]
     },
     "metadata": {
      "needs_background": "light"
     },
     "output_type": "display_data"
    }
   ],
   "source": [
    "##Visualise comparison of R2 score values of all models\n",
    "c_pal= sns.color_palette(\"husl\", 8)\n",
    "\n",
    "sns.barplot(x=\"models\",y=\"R2\",palette=c_pal, data=df_report)\n",
    "plt.xticks(rotation=45)\n",
    "plt.show()"
   ]
  },
  {
   "cell_type": "code",
   "execution_count": null,
   "id": "cd342c3f",
   "metadata": {},
   "outputs": [],
   "source": []
  }
 ],
 "metadata": {
  "kernelspec": {
   "display_name": "Python 3",
   "language": "python",
   "name": "python3"
  },
  "language_info": {
   "codemirror_mode": {
    "name": "ipython",
    "version": 3
   },
   "file_extension": ".py",
   "mimetype": "text/x-python",
   "name": "python",
   "nbconvert_exporter": "python",
   "pygments_lexer": "ipython3",
   "version": "3.8.3"
  }
 },
 "nbformat": 4,
 "nbformat_minor": 5
}
